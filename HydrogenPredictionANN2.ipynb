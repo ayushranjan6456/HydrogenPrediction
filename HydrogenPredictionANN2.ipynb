{
  "nbformat": 4,
  "nbformat_minor": 0,
  "metadata": {
    "colab": {
      "provenance": [],
      "authorship_tag": "ABX9TyOyEWjU9vpetfIumygzP9i1",
      "include_colab_link": true
    },
    "kernelspec": {
      "name": "python3",
      "display_name": "Python 3"
    },
    "language_info": {
      "name": "python"
    }
  },
  "cells": [
    {
      "cell_type": "markdown",
      "metadata": {
        "id": "view-in-github",
        "colab_type": "text"
      },
      "source": [
        "<a href=\"https://colab.research.google.com/github/ayushranjan6456/HydrogenPrediction/blob/main/HydrogenPredictionANN2.ipynb\" target=\"_parent\"><img src=\"https://colab.research.google.com/assets/colab-badge.svg\" alt=\"Open In Colab\"/></a>"
      ]
    },
    {
      "cell_type": "code",
      "execution_count": 21,
      "metadata": {
        "colab": {
          "base_uri": "https://localhost:8080/"
        },
        "id": "N4j7qo19O7PE",
        "outputId": "1dd57a64-2df8-429a-eb3b-ae5d35bf345c"
      },
      "outputs": [
        {
          "output_type": "stream",
          "name": "stdout",
          "text": [
            "Drive already mounted at /content/gdrive; to attempt to forcibly remount, call drive.mount(\"/content/gdrive\", force_remount=True).\n"
          ]
        }
      ],
      "source": [
        "from google.colab import drive\n",
        "drive.mount(\"/content/gdrive\")"
      ]
    },
    {
      "cell_type": "code",
      "source": [
        "import pandas as pd\n",
        "import numpy as np\n",
        "import matplotlib.pyplot as plt"
      ],
      "metadata": {
        "id": "M5oquHOfVRq4"
      },
      "execution_count": 22,
      "outputs": []
    },
    {
      "cell_type": "code",
      "source": [
        "df = pd.read_csv('/content/gdrive/My Drive/dataset/interpolated_merged.csv')\n",
        "\n",
        "#Drop the unnamed column with index of all 7 cycles individually\n",
        "df.drop(df.columns[df.columns.str.contains('unnamed',case = False)],axis = 1, inplace = True)\n",
        "df= df[df['Gas'] != 0]\n",
        "\n",
        "df"
      ],
      "metadata": {
        "colab": {
          "base_uri": "https://localhost:8080/",
          "height": 424
        },
        "id": "g33LAP5hVTXj",
        "outputId": "158e2142-7ed3-459a-9903-4b78a50f0dbf"
      },
      "execution_count": 23,
      "outputs": [
        {
          "output_type": "execute_result",
          "data": {
            "text/plain": [
              "           time        pH       VFA        COD        Gas\n",
              "1      0.241206  5.998204  3.310584  11.227403   0.179567\n",
              "2      0.482412  5.996256  3.311476  11.251849   0.366206\n",
              "3      0.723618  5.994160  3.312668  11.273404   0.559677\n",
              "4      0.964824  5.991923  3.314152  11.292135   0.759741\n",
              "5      1.206030  5.989551  3.315920  11.308109   0.966157\n",
              "...         ...       ...       ...        ...        ...\n",
              "1395  47.035176  4.947926  4.731427   6.214625  44.151661\n",
              "1396  47.276382  4.936978  4.742158   6.144786  44.818456\n",
              "1397  47.517588  4.925355  4.753809   6.072439  45.514966\n",
              "1398  47.758794  4.913037  4.766412   5.997529  46.241908\n",
              "1399  48.000000  4.900000  4.780000   5.920000  47.000000\n",
              "\n",
              "[1393 rows x 5 columns]"
            ],
            "text/html": [
              "\n",
              "  <div id=\"df-acdb65c3-5945-47f4-8b30-fb493846918b\">\n",
              "    <div class=\"colab-df-container\">\n",
              "      <div>\n",
              "<style scoped>\n",
              "    .dataframe tbody tr th:only-of-type {\n",
              "        vertical-align: middle;\n",
              "    }\n",
              "\n",
              "    .dataframe tbody tr th {\n",
              "        vertical-align: top;\n",
              "    }\n",
              "\n",
              "    .dataframe thead th {\n",
              "        text-align: right;\n",
              "    }\n",
              "</style>\n",
              "<table border=\"1\" class=\"dataframe\">\n",
              "  <thead>\n",
              "    <tr style=\"text-align: right;\">\n",
              "      <th></th>\n",
              "      <th>time</th>\n",
              "      <th>pH</th>\n",
              "      <th>VFA</th>\n",
              "      <th>COD</th>\n",
              "      <th>Gas</th>\n",
              "    </tr>\n",
              "  </thead>\n",
              "  <tbody>\n",
              "    <tr>\n",
              "      <th>1</th>\n",
              "      <td>0.241206</td>\n",
              "      <td>5.998204</td>\n",
              "      <td>3.310584</td>\n",
              "      <td>11.227403</td>\n",
              "      <td>0.179567</td>\n",
              "    </tr>\n",
              "    <tr>\n",
              "      <th>2</th>\n",
              "      <td>0.482412</td>\n",
              "      <td>5.996256</td>\n",
              "      <td>3.311476</td>\n",
              "      <td>11.251849</td>\n",
              "      <td>0.366206</td>\n",
              "    </tr>\n",
              "    <tr>\n",
              "      <th>3</th>\n",
              "      <td>0.723618</td>\n",
              "      <td>5.994160</td>\n",
              "      <td>3.312668</td>\n",
              "      <td>11.273404</td>\n",
              "      <td>0.559677</td>\n",
              "    </tr>\n",
              "    <tr>\n",
              "      <th>4</th>\n",
              "      <td>0.964824</td>\n",
              "      <td>5.991923</td>\n",
              "      <td>3.314152</td>\n",
              "      <td>11.292135</td>\n",
              "      <td>0.759741</td>\n",
              "    </tr>\n",
              "    <tr>\n",
              "      <th>5</th>\n",
              "      <td>1.206030</td>\n",
              "      <td>5.989551</td>\n",
              "      <td>3.315920</td>\n",
              "      <td>11.308109</td>\n",
              "      <td>0.966157</td>\n",
              "    </tr>\n",
              "    <tr>\n",
              "      <th>...</th>\n",
              "      <td>...</td>\n",
              "      <td>...</td>\n",
              "      <td>...</td>\n",
              "      <td>...</td>\n",
              "      <td>...</td>\n",
              "    </tr>\n",
              "    <tr>\n",
              "      <th>1395</th>\n",
              "      <td>47.035176</td>\n",
              "      <td>4.947926</td>\n",
              "      <td>4.731427</td>\n",
              "      <td>6.214625</td>\n",
              "      <td>44.151661</td>\n",
              "    </tr>\n",
              "    <tr>\n",
              "      <th>1396</th>\n",
              "      <td>47.276382</td>\n",
              "      <td>4.936978</td>\n",
              "      <td>4.742158</td>\n",
              "      <td>6.144786</td>\n",
              "      <td>44.818456</td>\n",
              "    </tr>\n",
              "    <tr>\n",
              "      <th>1397</th>\n",
              "      <td>47.517588</td>\n",
              "      <td>4.925355</td>\n",
              "      <td>4.753809</td>\n",
              "      <td>6.072439</td>\n",
              "      <td>45.514966</td>\n",
              "    </tr>\n",
              "    <tr>\n",
              "      <th>1398</th>\n",
              "      <td>47.758794</td>\n",
              "      <td>4.913037</td>\n",
              "      <td>4.766412</td>\n",
              "      <td>5.997529</td>\n",
              "      <td>46.241908</td>\n",
              "    </tr>\n",
              "    <tr>\n",
              "      <th>1399</th>\n",
              "      <td>48.000000</td>\n",
              "      <td>4.900000</td>\n",
              "      <td>4.780000</td>\n",
              "      <td>5.920000</td>\n",
              "      <td>47.000000</td>\n",
              "    </tr>\n",
              "  </tbody>\n",
              "</table>\n",
              "<p>1393 rows × 5 columns</p>\n",
              "</div>\n",
              "      <button class=\"colab-df-convert\" onclick=\"convertToInteractive('df-acdb65c3-5945-47f4-8b30-fb493846918b')\"\n",
              "              title=\"Convert this dataframe to an interactive table.\"\n",
              "              style=\"display:none;\">\n",
              "        \n",
              "  <svg xmlns=\"http://www.w3.org/2000/svg\" height=\"24px\"viewBox=\"0 0 24 24\"\n",
              "       width=\"24px\">\n",
              "    <path d=\"M0 0h24v24H0V0z\" fill=\"none\"/>\n",
              "    <path d=\"M18.56 5.44l.94 2.06.94-2.06 2.06-.94-2.06-.94-.94-2.06-.94 2.06-2.06.94zm-11 1L8.5 8.5l.94-2.06 2.06-.94-2.06-.94L8.5 2.5l-.94 2.06-2.06.94zm10 10l.94 2.06.94-2.06 2.06-.94-2.06-.94-.94-2.06-.94 2.06-2.06.94z\"/><path d=\"M17.41 7.96l-1.37-1.37c-.4-.4-.92-.59-1.43-.59-.52 0-1.04.2-1.43.59L10.3 9.45l-7.72 7.72c-.78.78-.78 2.05 0 2.83L4 21.41c.39.39.9.59 1.41.59.51 0 1.02-.2 1.41-.59l7.78-7.78 2.81-2.81c.8-.78.8-2.07 0-2.86zM5.41 20L4 18.59l7.72-7.72 1.47 1.35L5.41 20z\"/>\n",
              "  </svg>\n",
              "      </button>\n",
              "      \n",
              "  <style>\n",
              "    .colab-df-container {\n",
              "      display:flex;\n",
              "      flex-wrap:wrap;\n",
              "      gap: 12px;\n",
              "    }\n",
              "\n",
              "    .colab-df-convert {\n",
              "      background-color: #E8F0FE;\n",
              "      border: none;\n",
              "      border-radius: 50%;\n",
              "      cursor: pointer;\n",
              "      display: none;\n",
              "      fill: #1967D2;\n",
              "      height: 32px;\n",
              "      padding: 0 0 0 0;\n",
              "      width: 32px;\n",
              "    }\n",
              "\n",
              "    .colab-df-convert:hover {\n",
              "      background-color: #E2EBFA;\n",
              "      box-shadow: 0px 1px 2px rgba(60, 64, 67, 0.3), 0px 1px 3px 1px rgba(60, 64, 67, 0.15);\n",
              "      fill: #174EA6;\n",
              "    }\n",
              "\n",
              "    [theme=dark] .colab-df-convert {\n",
              "      background-color: #3B4455;\n",
              "      fill: #D2E3FC;\n",
              "    }\n",
              "\n",
              "    [theme=dark] .colab-df-convert:hover {\n",
              "      background-color: #434B5C;\n",
              "      box-shadow: 0px 1px 3px 1px rgba(0, 0, 0, 0.15);\n",
              "      filter: drop-shadow(0px 1px 2px rgba(0, 0, 0, 0.3));\n",
              "      fill: #FFFFFF;\n",
              "    }\n",
              "  </style>\n",
              "\n",
              "      <script>\n",
              "        const buttonEl =\n",
              "          document.querySelector('#df-acdb65c3-5945-47f4-8b30-fb493846918b button.colab-df-convert');\n",
              "        buttonEl.style.display =\n",
              "          google.colab.kernel.accessAllowed ? 'block' : 'none';\n",
              "\n",
              "        async function convertToInteractive(key) {\n",
              "          const element = document.querySelector('#df-acdb65c3-5945-47f4-8b30-fb493846918b');\n",
              "          const dataTable =\n",
              "            await google.colab.kernel.invokeFunction('convertToInteractive',\n",
              "                                                     [key], {});\n",
              "          if (!dataTable) return;\n",
              "\n",
              "          const docLinkHtml = 'Like what you see? Visit the ' +\n",
              "            '<a target=\"_blank\" href=https://colab.research.google.com/notebooks/data_table.ipynb>data table notebook</a>'\n",
              "            + ' to learn more about interactive tables.';\n",
              "          element.innerHTML = '';\n",
              "          dataTable['output_type'] = 'display_data';\n",
              "          await google.colab.output.renderOutput(dataTable, element);\n",
              "          const docLink = document.createElement('div');\n",
              "          docLink.innerHTML = docLinkHtml;\n",
              "          element.appendChild(docLink);\n",
              "        }\n",
              "      </script>\n",
              "    </div>\n",
              "  </div>\n",
              "  "
            ]
          },
          "metadata": {},
          "execution_count": 23
        }
      ]
    },
    {
      "cell_type": "code",
      "source": [
        "from sklearn.model_selection import train_test_split\n",
        "\n",
        "TargetVariable=['Gas']\n",
        "Predictors=['time', 'pH', 'VFA', 'COD']\n",
        "\n",
        "x=df[Predictors].values\n",
        "y=df[TargetVariable].values\n",
        "\n",
        "\n",
        "#Replace 0 in y_test with small value to avoid divide by 0 error\n",
        "# y[y == 0] = 0.01"
      ],
      "metadata": {
        "id": "Rpc4l9OYVU-0"
      },
      "execution_count": 24,
      "outputs": []
    },
    {
      "cell_type": "code",
      "source": [
        "### Sandardization of data ###\n",
        "from sklearn.preprocessing import StandardScaler\n",
        "PredictorScaler=StandardScaler()\n",
        "TargetVarScaler=StandardScaler()\n",
        "\n",
        "PredictorScalerFit=PredictorScaler.fit(x)\n",
        "TargetVarScalerFit=TargetVarScaler.fit(y)\n",
        "\n",
        "x=PredictorScalerFit.transform(x)\n",
        "y=TargetVarScalerFit.transform(y)\n"
      ],
      "metadata": {
        "id": "rpOfrHarVYmI"
      },
      "execution_count": 25,
      "outputs": []
    },
    {
      "cell_type": "code",
      "source": [
        "\n",
        "from sklearn.model_selection import train_test_split\n",
        "X_train, X_test, y_train, y_test = train_test_split(x, y, test_size=0.25, random_state=42)\n",
        "\n",
        "print(X_train.shape)\n",
        "print(y_train.shape)\n",
        "print(X_test.shape)\n",
        "print(y_test.shape)"
      ],
      "metadata": {
        "colab": {
          "base_uri": "https://localhost:8080/"
        },
        "id": "z6s2V_n7VypE",
        "outputId": "98371ac3-c743-4738-a2cb-09ba0cfbf571"
      },
      "execution_count": 26,
      "outputs": [
        {
          "output_type": "stream",
          "name": "stdout",
          "text": [
            "(1044, 4)\n",
            "(1044, 1)\n",
            "(349, 4)\n",
            "(349, 1)\n"
          ]
        }
      ]
    },
    {
      "cell_type": "code",
      "source": [
        "# importing the libraries\n",
        "from keras.models import Sequential\n",
        "from keras.layers import Dense\n",
        "\n",
        "# create ANN model\n",
        "model = Sequential()\n",
        "\n",
        "# Defining the Input layer and FIRST hidden layer, both are same!\n",
        "model.add(Dense(units=20, input_dim=4, kernel_initializer='normal', activation='relu'))\n",
        "\n",
        "# Defining the Second layer of the model\n",
        "# after the first layer we don't have to specify input_dim as keras configure it automatically\n",
        "#model.add(Dense(units=2, kernel_initializer='normal', activation='tanh'))\n",
        "\n",
        "# The output neuron is a single fully connected node \n",
        "# Since we will be predicting a single number\n",
        "model.add(Dense(1, kernel_initializer='normal'))\n",
        "\n",
        "# Compiling the model\n",
        "model.compile(loss='mean_squared_error', optimizer='adam')\n",
        "\n",
        "# Fitting the ANN to the Training set\n",
        "model.fit(X_train, y_train ,batch_size = 20, epochs = 50, verbose=1)\n"
      ],
      "metadata": {
        "colab": {
          "base_uri": "https://localhost:8080/"
        },
        "id": "3oLyi37YV2R2",
        "outputId": "4d3c1d6e-9c44-45f7-f351-1ad027f3c816"
      },
      "execution_count": 27,
      "outputs": [
        {
          "output_type": "stream",
          "name": "stdout",
          "text": [
            "Epoch 1/50\n",
            "53/53 [==============================] - 1s 2ms/step - loss: 0.7736\n",
            "Epoch 2/50\n",
            "53/53 [==============================] - 0s 2ms/step - loss: 0.2485\n",
            "Epoch 3/50\n",
            "53/53 [==============================] - 0s 2ms/step - loss: 0.0354\n",
            "Epoch 4/50\n",
            "53/53 [==============================] - 0s 2ms/step - loss: 0.0267\n",
            "Epoch 5/50\n",
            "53/53 [==============================] - 0s 2ms/step - loss: 0.0230\n",
            "Epoch 6/50\n",
            "53/53 [==============================] - 0s 2ms/step - loss: 0.0195\n",
            "Epoch 7/50\n",
            "53/53 [==============================] - 0s 2ms/step - loss: 0.0167\n",
            "Epoch 8/50\n",
            "53/53 [==============================] - 0s 2ms/step - loss: 0.0144\n",
            "Epoch 9/50\n",
            "53/53 [==============================] - 0s 2ms/step - loss: 0.0125\n",
            "Epoch 10/50\n",
            "53/53 [==============================] - 0s 2ms/step - loss: 0.0111\n",
            "Epoch 11/50\n",
            "53/53 [==============================] - 0s 2ms/step - loss: 0.0099\n",
            "Epoch 12/50\n",
            "53/53 [==============================] - 0s 2ms/step - loss: 0.0088\n",
            "Epoch 13/50\n",
            "53/53 [==============================] - 0s 2ms/step - loss: 0.0082\n",
            "Epoch 14/50\n",
            "53/53 [==============================] - 0s 2ms/step - loss: 0.0076\n",
            "Epoch 15/50\n",
            "53/53 [==============================] - 0s 2ms/step - loss: 0.0071\n",
            "Epoch 16/50\n",
            "53/53 [==============================] - 0s 2ms/step - loss: 0.0067\n",
            "Epoch 17/50\n",
            "53/53 [==============================] - 0s 2ms/step - loss: 0.0064\n",
            "Epoch 18/50\n",
            "53/53 [==============================] - 0s 2ms/step - loss: 0.0062\n",
            "Epoch 19/50\n",
            "53/53 [==============================] - 0s 2ms/step - loss: 0.0060\n",
            "Epoch 20/50\n",
            "53/53 [==============================] - 0s 2ms/step - loss: 0.0058\n",
            "Epoch 21/50\n",
            "53/53 [==============================] - 0s 2ms/step - loss: 0.0057\n",
            "Epoch 22/50\n",
            "53/53 [==============================] - 0s 2ms/step - loss: 0.0056\n",
            "Epoch 23/50\n",
            "53/53 [==============================] - 0s 2ms/step - loss: 0.0055\n",
            "Epoch 24/50\n",
            "53/53 [==============================] - 0s 2ms/step - loss: 0.0054\n",
            "Epoch 25/50\n",
            "53/53 [==============================] - 0s 2ms/step - loss: 0.0054\n",
            "Epoch 26/50\n",
            "53/53 [==============================] - 0s 2ms/step - loss: 0.0052\n",
            "Epoch 27/50\n",
            "53/53 [==============================] - 0s 2ms/step - loss: 0.0052\n",
            "Epoch 28/50\n",
            "53/53 [==============================] - 0s 2ms/step - loss: 0.0051\n",
            "Epoch 29/50\n",
            "53/53 [==============================] - 0s 2ms/step - loss: 0.0050\n",
            "Epoch 30/50\n",
            "53/53 [==============================] - 0s 2ms/step - loss: 0.0050\n",
            "Epoch 31/50\n",
            "53/53 [==============================] - 0s 2ms/step - loss: 0.0051\n",
            "Epoch 32/50\n",
            "53/53 [==============================] - 0s 2ms/step - loss: 0.0050\n",
            "Epoch 33/50\n",
            "53/53 [==============================] - 0s 2ms/step - loss: 0.0048\n",
            "Epoch 34/50\n",
            "53/53 [==============================] - 0s 2ms/step - loss: 0.0050\n",
            "Epoch 35/50\n",
            "53/53 [==============================] - 0s 2ms/step - loss: 0.0048\n",
            "Epoch 36/50\n",
            "53/53 [==============================] - 0s 2ms/step - loss: 0.0049\n",
            "Epoch 37/50\n",
            "53/53 [==============================] - 0s 2ms/step - loss: 0.0047\n",
            "Epoch 38/50\n",
            "53/53 [==============================] - 0s 2ms/step - loss: 0.0046\n",
            "Epoch 39/50\n",
            "53/53 [==============================] - 0s 2ms/step - loss: 0.0046\n",
            "Epoch 40/50\n",
            "53/53 [==============================] - 0s 2ms/step - loss: 0.0045\n",
            "Epoch 41/50\n",
            "53/53 [==============================] - 0s 2ms/step - loss: 0.0045\n",
            "Epoch 42/50\n",
            "53/53 [==============================] - 0s 2ms/step - loss: 0.0045\n",
            "Epoch 43/50\n",
            "53/53 [==============================] - 0s 2ms/step - loss: 0.0045\n",
            "Epoch 44/50\n",
            "53/53 [==============================] - 0s 2ms/step - loss: 0.0043\n",
            "Epoch 45/50\n",
            "53/53 [==============================] - 0s 2ms/step - loss: 0.0044\n",
            "Epoch 46/50\n",
            "53/53 [==============================] - 0s 2ms/step - loss: 0.0043\n",
            "Epoch 47/50\n",
            "53/53 [==============================] - 0s 2ms/step - loss: 0.0042\n",
            "Epoch 48/50\n",
            "53/53 [==============================] - 0s 2ms/step - loss: 0.0042\n",
            "Epoch 49/50\n",
            "53/53 [==============================] - 0s 2ms/step - loss: 0.0041\n",
            "Epoch 50/50\n",
            "53/53 [==============================] - 0s 2ms/step - loss: 0.0042\n"
          ]
        },
        {
          "output_type": "execute_result",
          "data": {
            "text/plain": [
              "<keras.callbacks.History at 0x7f078f36d220>"
            ]
          },
          "metadata": {},
          "execution_count": 27
        }
      ]
    },
    {
      "cell_type": "code",
      "source": [
        "\n",
        "from keras.utils.vis_utils import plot_model\n",
        "\n",
        "plot_model(model, to_file='model_plot.png', show_shapes=True, show_layer_names=True)"
      ],
      "metadata": {
        "colab": {
          "base_uri": "https://localhost:8080/",
          "height": 312
        },
        "id": "xEFc4JZiV6Oq",
        "outputId": "2d24a1dd-079c-4b95-b514-72205d38eb3a"
      },
      "execution_count": 28,
      "outputs": [
        {
          "output_type": "execute_result",
          "data": {
            "image/png": "[encoded data removed]",
            "text/plain": [
              "<IPython.core.display.Image object>"
            ]
          },
          "metadata": {},
          "execution_count": 28
        }
      ]
    },
    {
      "cell_type": "code",
      "source": [
        "model.evaluate(X_test, y_test)"
      ],
      "metadata": {
        "colab": {
          "base_uri": "https://localhost:8080/"
        },
        "id": "k7LU-hQiV87_",
        "outputId": "0b74c27b-cde4-42fd-9d94-eb14dbe18d36"
      },
      "execution_count": 29,
      "outputs": [
        {
          "output_type": "stream",
          "name": "stdout",
          "text": [
            "11/11 [==============================] - 0s 2ms/step - loss: 0.0041\n"
          ]
        },
        {
          "output_type": "execute_result",
          "data": {
            "text/plain": [
              "0.004112075082957745"
            ]
          },
          "metadata": {},
          "execution_count": 29
        }
      ]
    },
    {
      "cell_type": "code",
      "source": [
        "# Defining a function to find the best parameters for ANN\n",
        "def FunctionFindBestParams(X_train, y_train, X_test, y_test):\n",
        "    \n",
        "    # Defining the list of hyper parameters to try\n",
        "    batch_size_list=[5, 10, 15, 20]\n",
        "    epoch_list  =   [5, 10, 50, 100]\n",
        "    \n",
        "    import pandas as pd\n",
        "    SearchResultsData=pd.DataFrame(columns=['TrialNumber', 'Parameters', 'Accuracy'])\n",
        "    \n",
        "    # initializing the trials\n",
        "    TrialNumber=0\n",
        "    for batch_size_trial in batch_size_list:\n",
        "        for epochs_trial in epoch_list:\n",
        "            TrialNumber+=1\n",
        "            # create ANN model\n",
        "            model = Sequential()\n",
        "            # Defining the first layer of the model\n",
        "            model.add(Dense(units=20, input_dim=X_train.shape[1], kernel_initializer='normal', activation='relu'))\n",
        "\n",
        "            # Defining the Second layer of the model\n",
        "            #model.add(Dense(units=2, kernel_initializer='normal', activation='relu'))\n",
        "\n",
        "            # The output neuron is a single fully connected node \n",
        "            # Since we will be predicting a single number\n",
        "            model.add(Dense(1, kernel_initializer='normal'))\n",
        "\n",
        "            # Compiling the model\n",
        "            model.compile(loss='mean_squared_error', optimizer='adam')\n",
        "\n",
        "            # Fitting the ANN to the Training set\n",
        "            model.fit(X_train, y_train ,batch_size = batch_size_trial, epochs = epochs_trial, verbose=0)\n",
        "            \n",
        "            #Replace 0 in y_test with small value to avoid divide by 0 error\n",
        "            # y_test[y_test == 0] = 0.01\n",
        "\n",
        "            Abs_err = y_test - model.predict(X_test)\n",
        "\n",
        "            err = (y_test - model.predict(X_test))/y_test\n",
        "\n",
        "            abs_err = np.abs(err)\n",
        "\n",
        "            MAPE = np.mean(abs_err) * 100\n",
        "            \n",
        "            # printing the results of the current iteration\n",
        "            print(TrialNumber, 'Parameters:','batch_size:', batch_size_trial,'-', 'epochs:',epochs_trial, 'Accuracy:', 100-MAPE)\n",
        "            \n",
        "            SearchResultsData=SearchResultsData.append(pd.DataFrame(data=[[TrialNumber, str(batch_size_trial)+'-'+str(epochs_trial), 100-MAPE]],\n",
        "                                                                    columns=['TrialNumber', 'Parameters', 'Accuracy'] ))\n",
        "    return(SearchResultsData)\n",
        "\n",
        "\n",
        "######################################################\n",
        "# Calling the function\n",
        "ResultsData=FunctionFindBestParams(X_train, y_train, X_test, y_test)"
      ],
      "metadata": {
        "colab": {
          "base_uri": "https://localhost:8080/"
        },
        "id": "GVjGe8U4V_xI",
        "outputId": "537ccc12-fb8d-45c5-8b25-f9c8482c08c8"
      },
      "execution_count": 30,
      "outputs": [
        {
          "output_type": "stream",
          "name": "stdout",
          "text": [
            "11/11 [==============================] - 0s 2ms/step\n",
            "11/11 [==============================] - 0s 2ms/step\n",
            "1 Parameters: batch_size: 5 - epochs: 5 Accuracy: 78.72237535133794\n",
            "11/11 [==============================] - 0s 2ms/step\n",
            "11/11 [==============================] - 0s 2ms/step\n",
            "2 Parameters: batch_size: 5 - epochs: 10 Accuracy: 86.14548317158476\n",
            "11/11 [==============================] - 0s 2ms/step\n",
            "11/11 [==============================] - 0s 2ms/step\n",
            "3 Parameters: batch_size: 5 - epochs: 50 Accuracy: 85.7580518274836\n",
            "11/11 [==============================] - 0s 2ms/step\n",
            "11/11 [==============================] - 0s 2ms/step\n",
            "4 Parameters: batch_size: 5 - epochs: 100 Accuracy: 89.2685794394938\n",
            "11/11 [==============================] - 0s 2ms/step\n",
            "11/11 [==============================] - 0s 2ms/step\n",
            "5 Parameters: batch_size: 10 - epochs: 5 Accuracy: 68.73329741865093\n",
            "11/11 [==============================] - 0s 3ms/step\n",
            "11/11 [==============================] - 0s 2ms/step\n",
            "6 Parameters: batch_size: 10 - epochs: 10 Accuracy: 82.60716958314389\n",
            "11/11 [==============================] - 0s 2ms/step\n",
            "11/11 [==============================] - 0s 2ms/step\n",
            "7 Parameters: batch_size: 10 - epochs: 50 Accuracy: 83.10881785132497\n",
            "11/11 [==============================] - 0s 2ms/step\n",
            "11/11 [==============================] - 0s 2ms/step\n",
            "8 Parameters: batch_size: 10 - epochs: 100 Accuracy: 87.08958453082846\n",
            "11/11 [==============================] - 0s 2ms/step\n",
            "11/11 [==============================] - 0s 2ms/step\n",
            "9 Parameters: batch_size: 15 - epochs: 5 Accuracy: 51.550757005571754\n",
            "11/11 [==============================] - 0s 2ms/step\n",
            "11/11 [==============================] - 0s 2ms/step\n",
            "10 Parameters: batch_size: 15 - epochs: 10 Accuracy: 75.3827646340098\n",
            "11/11 [==============================] - 0s 3ms/step\n",
            "11/11 [==============================] - 0s 2ms/step\n",
            "11 Parameters: batch_size: 15 - epochs: 50 Accuracy: 81.87601104710181\n",
            "11/11 [==============================] - 0s 2ms/step\n",
            "11/11 [==============================] - 0s 2ms/step\n",
            "12 Parameters: batch_size: 15 - epochs: 100 Accuracy: 85.01830640743556\n",
            "11/11 [==============================] - 0s 2ms/step\n",
            "11/11 [==============================] - 0s 3ms/step\n",
            "13 Parameters: batch_size: 20 - epochs: 5 Accuracy: 53.2369861098165\n",
            "11/11 [==============================] - 0s 2ms/step\n",
            "11/11 [==============================] - 0s 2ms/step\n",
            "14 Parameters: batch_size: 20 - epochs: 10 Accuracy: 72.64478785742494\n",
            "11/11 [==============================] - 0s 2ms/step\n",
            "11/11 [==============================] - 0s 2ms/step\n",
            "15 Parameters: batch_size: 20 - epochs: 50 Accuracy: 83.46448581140089\n",
            "11/11 [==============================] - 0s 2ms/step\n",
            "11/11 [==============================] - 0s 2ms/step\n",
            "16 Parameters: batch_size: 20 - epochs: 100 Accuracy: 83.39764526717285\n"
          ]
        }
      ]
    },
    {
      "cell_type": "code",
      "source": [
        "%matplotlib inline\n",
        "ResultsData.plot(x='Parameters', y='Accuracy', figsize=(15,4), kind='line')"
      ],
      "metadata": {
        "colab": {
          "base_uri": "https://localhost:8080/",
          "height": 296
        },
        "id": "Cg1PURXgWB97",
        "outputId": "eac26a13-e3f8-4aa6-be59-d2cd87ec806d"
      },
      "execution_count": 31,
      "outputs": [
        {
          "output_type": "execute_result",
          "data": {
            "text/plain": [
              "<matplotlib.axes._subplots.AxesSubplot at 0x7f078e230430>"
            ]
          },
          "metadata": {},
          "execution_count": 31
        },
        {
          "output_type": "display_data",
          "data": {
            "text/plain": [
              "<Figure size 1080x288 with 1 Axes>"
            ],
            "image/png": "[encoded data removed]"
          },
          "metadata": {
            "needs_background": "light"
          }
        }
      ]
    },
    {
      "cell_type": "code",
      "source": [
        "# Fitting the ANN to the Training set\n",
        "model.fit(X_train, y_train ,batch_size = 5, epochs = 100, verbose=0)\n",
        "\n",
        "# Generating Predictions on testing data\n",
        "Predictions=model.predict(X_test)\n",
        "\n",
        "# Scaling the predicted Gas data back to original gas scale\n",
        "Predictions=TargetVarScalerFit.inverse_transform(Predictions)\n",
        "\n",
        "# Scaling the y_test Gas data back to original gas scale\n",
        "y_test_orig=TargetVarScalerFit.inverse_transform(y_test)\n",
        "\n",
        "# Scaling the test data back to original scale\n",
        "Test_Data=PredictorScalerFit.inverse_transform(X_test)\n",
        "\n",
        "\n",
        "TestingData=pd.DataFrame(data=Test_Data, columns=Predictors)\n",
        "TestingData['Gas']=y_test_orig\n",
        "TestingData['PredictedGas']=Predictions\n",
        "TestingData.head()"
      ],
      "metadata": {
        "colab": {
          "base_uri": "https://localhost:8080/",
          "height": 224
        },
        "id": "pJP9oQxJWEfS",
        "outputId": "4f89992b-df53-4fd1-e6df-3e725c98ffae"
      },
      "execution_count": 32,
      "outputs": [
        {
          "output_type": "stream",
          "name": "stdout",
          "text": [
            "11/11 [==============================] - 0s 2ms/step\n"
          ]
        },
        {
          "output_type": "execute_result",
          "data": {
            "text/plain": [
              "        time        pH       VFA        COD        Gas  PredictedGas\n",
              "0  29.909548  5.377574  4.308308   8.439824  28.198308     28.494350\n",
              "1  26.773869  5.570751  4.059875   8.840587  23.980526     24.306795\n",
              "2  43.899497  5.020949  4.658255   6.927111  39.087355     40.292988\n",
              "3  31.115578  5.261608  4.386455   8.203876  30.231761     30.734592\n",
              "4   9.648241  5.898612  3.523681  10.710354  10.554546     10.358214"
            ],
            "text/html": [
              "\n",
              "  <div id=\"df-d25cd7ae-b3b7-4dd7-ad79-eeea643c84c2\">\n",
              "    <div class=\"colab-df-container\">\n",
              "      <div>\n",
              "<style scoped>\n",
              "    .dataframe tbody tr th:only-of-type {\n",
              "        vertical-align: middle;\n",
              "    }\n",
              "\n",
              "    .dataframe tbody tr th {\n",
              "        vertical-align: top;\n",
              "    }\n",
              "\n",
              "    .dataframe thead th {\n",
              "        text-align: right;\n",
              "    }\n",
              "</style>\n",
              "<table border=\"1\" class=\"dataframe\">\n",
              "  <thead>\n",
              "    <tr style=\"text-align: right;\">\n",
              "      <th></th>\n",
              "      <th>time</th>\n",
              "      <th>pH</th>\n",
              "      <th>VFA</th>\n",
              "      <th>COD</th>\n",
              "      <th>Gas</th>\n",
              "      <th>PredictedGas</th>\n",
              "    </tr>\n",
              "  </thead>\n",
              "  <tbody>\n",
              "    <tr>\n",
              "      <th>0</th>\n",
              "      <td>29.909548</td>\n",
              "      <td>5.377574</td>\n",
              "      <td>4.308308</td>\n",
              "      <td>8.439824</td>\n",
              "      <td>28.198308</td>\n",
              "      <td>28.494350</td>\n",
              "    </tr>\n",
              "    <tr>\n",
              "      <th>1</th>\n",
              "      <td>26.773869</td>\n",
              "      <td>5.570751</td>\n",
              "      <td>4.059875</td>\n",
              "      <td>8.840587</td>\n",
              "      <td>23.980526</td>\n",
              "      <td>24.306795</td>\n",
              "    </tr>\n",
              "    <tr>\n",
              "      <th>2</th>\n",
              "      <td>43.899497</td>\n",
              "      <td>5.020949</td>\n",
              "      <td>4.658255</td>\n",
              "      <td>6.927111</td>\n",
              "      <td>39.087355</td>\n",
              "      <td>40.292988</td>\n",
              "    </tr>\n",
              "    <tr>\n",
              "      <th>3</th>\n",
              "      <td>31.115578</td>\n",
              "      <td>5.261608</td>\n",
              "      <td>4.386455</td>\n",
              "      <td>8.203876</td>\n",
              "      <td>30.231761</td>\n",
              "      <td>30.734592</td>\n",
              "    </tr>\n",
              "    <tr>\n",
              "      <th>4</th>\n",
              "      <td>9.648241</td>\n",
              "      <td>5.898612</td>\n",
              "      <td>3.523681</td>\n",
              "      <td>10.710354</td>\n",
              "      <td>10.554546</td>\n",
              "      <td>10.358214</td>\n",
              "    </tr>\n",
              "  </tbody>\n",
              "</table>\n",
              "</div>\n",
              "      <button class=\"colab-df-convert\" onclick=\"convertToInteractive('df-d25cd7ae-b3b7-4dd7-ad79-eeea643c84c2')\"\n",
              "              title=\"Convert this dataframe to an interactive table.\"\n",
              "              style=\"display:none;\">\n",
              "        \n",
              "  <svg xmlns=\"http://www.w3.org/2000/svg\" height=\"24px\"viewBox=\"0 0 24 24\"\n",
              "       width=\"24px\">\n",
              "    <path d=\"M0 0h24v24H0V0z\" fill=\"none\"/>\n",
              "    <path d=\"M18.56 5.44l.94 2.06.94-2.06 2.06-.94-2.06-.94-.94-2.06-.94 2.06-2.06.94zm-11 1L8.5 8.5l.94-2.06 2.06-.94-2.06-.94L8.5 2.5l-.94 2.06-2.06.94zm10 10l.94 2.06.94-2.06 2.06-.94-2.06-.94-.94-2.06-.94 2.06-2.06.94z\"/><path d=\"M17.41 7.96l-1.37-1.37c-.4-.4-.92-.59-1.43-.59-.52 0-1.04.2-1.43.59L10.3 9.45l-7.72 7.72c-.78.78-.78 2.05 0 2.83L4 21.41c.39.39.9.59 1.41.59.51 0 1.02-.2 1.41-.59l7.78-7.78 2.81-2.81c.8-.78.8-2.07 0-2.86zM5.41 20L4 18.59l7.72-7.72 1.47 1.35L5.41 20z\"/>\n",
              "  </svg>\n",
              "      </button>\n",
              "      \n",
              "  <style>\n",
              "    .colab-df-container {\n",
              "      display:flex;\n",
              "      flex-wrap:wrap;\n",
              "      gap: 12px;\n",
              "    }\n",
              "\n",
              "    .colab-df-convert {\n",
              "      background-color: #E8F0FE;\n",
              "      border: none;\n",
              "      border-radius: 50%;\n",
              "      cursor: pointer;\n",
              "      display: none;\n",
              "      fill: #1967D2;\n",
              "      height: 32px;\n",
              "      padding: 0 0 0 0;\n",
              "      width: 32px;\n",
              "    }\n",
              "\n",
              "    .colab-df-convert:hover {\n",
              "      background-color: #E2EBFA;\n",
              "      box-shadow: 0px 1px 2px rgba(60, 64, 67, 0.3), 0px 1px 3px 1px rgba(60, 64, 67, 0.15);\n",
              "      fill: #174EA6;\n",
              "    }\n",
              "\n",
              "    [theme=dark] .colab-df-convert {\n",
              "      background-color: #3B4455;\n",
              "      fill: #D2E3FC;\n",
              "    }\n",
              "\n",
              "    [theme=dark] .colab-df-convert:hover {\n",
              "      background-color: #434B5C;\n",
              "      box-shadow: 0px 1px 3px 1px rgba(0, 0, 0, 0.15);\n",
              "      filter: drop-shadow(0px 1px 2px rgba(0, 0, 0, 0.3));\n",
              "      fill: #FFFFFF;\n",
              "    }\n",
              "  </style>\n",
              "\n",
              "      <script>\n",
              "        const buttonEl =\n",
              "          document.querySelector('#df-d25cd7ae-b3b7-4dd7-ad79-eeea643c84c2 button.colab-df-convert');\n",
              "        buttonEl.style.display =\n",
              "          google.colab.kernel.accessAllowed ? 'block' : 'none';\n",
              "\n",
              "        async function convertToInteractive(key) {\n",
              "          const element = document.querySelector('#df-d25cd7ae-b3b7-4dd7-ad79-eeea643c84c2');\n",
              "          const dataTable =\n",
              "            await google.colab.kernel.invokeFunction('convertToInteractive',\n",
              "                                                     [key], {});\n",
              "          if (!dataTable) return;\n",
              "\n",
              "          const docLinkHtml = 'Like what you see? Visit the ' +\n",
              "            '<a target=\"_blank\" href=https://colab.research.google.com/notebooks/data_table.ipynb>data table notebook</a>'\n",
              "            + ' to learn more about interactive tables.';\n",
              "          element.innerHTML = '';\n",
              "          dataTable['output_type'] = 'display_data';\n",
              "          await google.colab.output.renderOutput(dataTable, element);\n",
              "          const docLink = document.createElement('div');\n",
              "          docLink.innerHTML = docLinkHtml;\n",
              "          element.appendChild(docLink);\n",
              "        }\n",
              "      </script>\n",
              "    </div>\n",
              "  </div>\n",
              "  "
            ]
          },
          "metadata": {},
          "execution_count": 32
        }
      ]
    },
    {
      "cell_type": "code",
      "source": [
        "# Computing the absolute percent error\n",
        "import numpy\n",
        "import sys\n",
        "\n",
        "\n",
        "APE=100*(abs(TestingData['Gas']-TestingData['PredictedGas'])/TestingData['Gas'])\n",
        "TestingData['APE']=APE\n",
        "\n",
        "print('The Accuracy of ANN model is:', 100 - np.mean(APE))\n",
        "TestingData.head()"
      ],
      "metadata": {
        "colab": {
          "base_uri": "https://localhost:8080/",
          "height": 224
        },
        "id": "Pcpkv4SQWHMy",
        "outputId": "2495290c-a26e-4c17-da86-d3a87dd2bcc3"
      },
      "execution_count": 33,
      "outputs": [
        {
          "output_type": "stream",
          "name": "stdout",
          "text": [
            "The Accuracy of ANN model is: 96.81678169063915\n"
          ]
        },
        {
          "output_type": "execute_result",
          "data": {
            "text/plain": [
              "        time        pH       VFA        COD        Gas  PredictedGas       APE\n",
              "0  29.909548  5.377574  4.308308   8.439824  28.198308     28.494350  1.049859\n",
              "1  26.773869  5.570751  4.059875   8.840587  23.980526     24.306795  1.360559\n",
              "2  43.899497  5.020949  4.658255   6.927111  39.087355     40.292988  3.084457\n",
              "3  31.115578  5.261608  4.386455   8.203876  30.231761     30.734592  1.663257\n",
              "4   9.648241  5.898612  3.523681  10.710354  10.554546     10.358214  1.860161"
            ],
            "text/html": [
              "\n",
              "  <div id=\"df-88b26c0d-7b7d-4471-ba3a-d6ba8d430bde\">\n",
              "    <div class=\"colab-df-container\">\n",
              "      <div>\n",
              "<style scoped>\n",
              "    .dataframe tbody tr th:only-of-type {\n",
              "        vertical-align: middle;\n",
              "    }\n",
              "\n",
              "    .dataframe tbody tr th {\n",
              "        vertical-align: top;\n",
              "    }\n",
              "\n",
              "    .dataframe thead th {\n",
              "        text-align: right;\n",
              "    }\n",
              "</style>\n",
              "<table border=\"1\" class=\"dataframe\">\n",
              "  <thead>\n",
              "    <tr style=\"text-align: right;\">\n",
              "      <th></th>\n",
              "      <th>time</th>\n",
              "      <th>pH</th>\n",
              "      <th>VFA</th>\n",
              "      <th>COD</th>\n",
              "      <th>Gas</th>\n",
              "      <th>PredictedGas</th>\n",
              "      <th>APE</th>\n",
              "    </tr>\n",
              "  </thead>\n",
              "  <tbody>\n",
              "    <tr>\n",
              "      <th>0</th>\n",
              "      <td>29.909548</td>\n",
              "      <td>5.377574</td>\n",
              "      <td>4.308308</td>\n",
              "      <td>8.439824</td>\n",
              "      <td>28.198308</td>\n",
              "      <td>28.494350</td>\n",
              "      <td>1.049859</td>\n",
              "    </tr>\n",
              "    <tr>\n",
              "      <th>1</th>\n",
              "      <td>26.773869</td>\n",
              "      <td>5.570751</td>\n",
              "      <td>4.059875</td>\n",
              "      <td>8.840587</td>\n",
              "      <td>23.980526</td>\n",
              "      <td>24.306795</td>\n",
              "      <td>1.360559</td>\n",
              "    </tr>\n",
              "    <tr>\n",
              "      <th>2</th>\n",
              "      <td>43.899497</td>\n",
              "      <td>5.020949</td>\n",
              "      <td>4.658255</td>\n",
              "      <td>6.927111</td>\n",
              "      <td>39.087355</td>\n",
              "      <td>40.292988</td>\n",
              "      <td>3.084457</td>\n",
              "    </tr>\n",
              "    <tr>\n",
              "      <th>3</th>\n",
              "      <td>31.115578</td>\n",
              "      <td>5.261608</td>\n",
              "      <td>4.386455</td>\n",
              "      <td>8.203876</td>\n",
              "      <td>30.231761</td>\n",
              "      <td>30.734592</td>\n",
              "      <td>1.663257</td>\n",
              "    </tr>\n",
              "    <tr>\n",
              "      <th>4</th>\n",
              "      <td>9.648241</td>\n",
              "      <td>5.898612</td>\n",
              "      <td>3.523681</td>\n",
              "      <td>10.710354</td>\n",
              "      <td>10.554546</td>\n",
              "      <td>10.358214</td>\n",
              "      <td>1.860161</td>\n",
              "    </tr>\n",
              "  </tbody>\n",
              "</table>\n",
              "</div>\n",
              "      <button class=\"colab-df-convert\" onclick=\"convertToInteractive('df-88b26c0d-7b7d-4471-ba3a-d6ba8d430bde')\"\n",
              "              title=\"Convert this dataframe to an interactive table.\"\n",
              "              style=\"display:none;\">\n",
              "        \n",
              "  <svg xmlns=\"http://www.w3.org/2000/svg\" height=\"24px\"viewBox=\"0 0 24 24\"\n",
              "       width=\"24px\">\n",
              "    <path d=\"M0 0h24v24H0V0z\" fill=\"none\"/>\n",
              "    <path d=\"M18.56 5.44l.94 2.06.94-2.06 2.06-.94-2.06-.94-.94-2.06-.94 2.06-2.06.94zm-11 1L8.5 8.5l.94-2.06 2.06-.94-2.06-.94L8.5 2.5l-.94 2.06-2.06.94zm10 10l.94 2.06.94-2.06 2.06-.94-2.06-.94-.94-2.06-.94 2.06-2.06.94z\"/><path d=\"M17.41 7.96l-1.37-1.37c-.4-.4-.92-.59-1.43-.59-.52 0-1.04.2-1.43.59L10.3 9.45l-7.72 7.72c-.78.78-.78 2.05 0 2.83L4 21.41c.39.39.9.59 1.41.59.51 0 1.02-.2 1.41-.59l7.78-7.78 2.81-2.81c.8-.78.8-2.07 0-2.86zM5.41 20L4 18.59l7.72-7.72 1.47 1.35L5.41 20z\"/>\n",
              "  </svg>\n",
              "      </button>\n",
              "      \n",
              "  <style>\n",
              "    .colab-df-container {\n",
              "      display:flex;\n",
              "      flex-wrap:wrap;\n",
              "      gap: 12px;\n",
              "    }\n",
              "\n",
              "    .colab-df-convert {\n",
              "      background-color: #E8F0FE;\n",
              "      border: none;\n",
              "      border-radius: 50%;\n",
              "      cursor: pointer;\n",
              "      display: none;\n",
              "      fill: #1967D2;\n",
              "      height: 32px;\n",
              "      padding: 0 0 0 0;\n",
              "      width: 32px;\n",
              "    }\n",
              "\n",
              "    .colab-df-convert:hover {\n",
              "      background-color: #E2EBFA;\n",
              "      box-shadow: 0px 1px 2px rgba(60, 64, 67, 0.3), 0px 1px 3px 1px rgba(60, 64, 67, 0.15);\n",
              "      fill: #174EA6;\n",
              "    }\n",
              "\n",
              "    [theme=dark] .colab-df-convert {\n",
              "      background-color: #3B4455;\n",
              "      fill: #D2E3FC;\n",
              "    }\n",
              "\n",
              "    [theme=dark] .colab-df-convert:hover {\n",
              "      background-color: #434B5C;\n",
              "      box-shadow: 0px 1px 3px 1px rgba(0, 0, 0, 0.15);\n",
              "      filter: drop-shadow(0px 1px 2px rgba(0, 0, 0, 0.3));\n",
              "      fill: #FFFFFF;\n",
              "    }\n",
              "  </style>\n",
              "\n",
              "      <script>\n",
              "        const buttonEl =\n",
              "          document.querySelector('#df-88b26c0d-7b7d-4471-ba3a-d6ba8d430bde button.colab-df-convert');\n",
              "        buttonEl.style.display =\n",
              "          google.colab.kernel.accessAllowed ? 'block' : 'none';\n",
              "\n",
              "        async function convertToInteractive(key) {\n",
              "          const element = document.querySelector('#df-88b26c0d-7b7d-4471-ba3a-d6ba8d430bde');\n",
              "          const dataTable =\n",
              "            await google.colab.kernel.invokeFunction('convertToInteractive',\n",
              "                                                     [key], {});\n",
              "          if (!dataTable) return;\n",
              "\n",
              "          const docLinkHtml = 'Like what you see? Visit the ' +\n",
              "            '<a target=\"_blank\" href=https://colab.research.google.com/notebooks/data_table.ipynb>data table notebook</a>'\n",
              "            + ' to learn more about interactive tables.';\n",
              "          element.innerHTML = '';\n",
              "          dataTable['output_type'] = 'display_data';\n",
              "          await google.colab.output.renderOutput(dataTable, element);\n",
              "          const docLink = document.createElement('div');\n",
              "          docLink.innerHTML = docLinkHtml;\n",
              "          element.appendChild(docLink);\n",
              "        }\n",
              "      </script>\n",
              "    </div>\n",
              "  </div>\n",
              "  "
            ]
          },
          "metadata": {},
          "execution_count": 33
        }
      ]
    },
    {
      "cell_type": "code",
      "source": [
        "# TestingData['APE'].plot(x='Parameters', y='APE', figsize=(15,4), kind='line')"
      ],
      "metadata": {
        "id": "H_f5mlHrZlO1"
      },
      "execution_count": 36,
      "outputs": []
    },
    {
      "cell_type": "code",
      "source": [
        "TestingData['APE'][290:300]"
      ],
      "metadata": {
        "colab": {
          "base_uri": "https://localhost:8080/"
        },
        "id": "IQ04vRpAZuOr",
        "outputId": "b86107e7-e47e-439a-9f09-39eb5f7e33bd"
      },
      "execution_count": 35,
      "outputs": [
        {
          "output_type": "execute_result",
          "data": {
            "text/plain": [
              "290    2.571808\n",
              "291    7.359162\n",
              "292    1.376886\n",
              "293    2.755952\n",
              "294    0.140598\n",
              "295    0.412753\n",
              "296    1.973996\n",
              "297    0.394509\n",
              "298    0.108405\n",
              "299    1.977813\n",
              "Name: APE, dtype: float64"
            ]
          },
          "metadata": {},
          "execution_count": 35
        }
      ]
    },
    {
      "cell_type": "code",
      "source": [
        "\n",
        "plt.scatter(TestingData['Gas'], TestingData['PredictedGas'], c='crimson')\n",
        "\n",
        "p1 = max(max(TestingData['PredictedGas']), max(TestingData['Gas']))\n",
        "p2 = min(min(TestingData['PredictedGas']), min(TestingData['Gas']))\n",
        "\n",
        "plt.plot([p1, p2], [p1, p2], 'b-')\n",
        "plt.xlabel('True Values', fontsize=15)\n",
        "plt.ylabel('Predictions', fontsize=15)\n",
        "\n",
        "plt.show()"
      ],
      "metadata": {
        "colab": {
          "base_uri": "https://localhost:8080/",
          "height": 284
        },
        "id": "rpk1VcRxef2r",
        "outputId": "ce38c425-3dfc-4946-ea60-5287af9760a2"
      },
      "execution_count": 39,
      "outputs": [
        {
          "output_type": "display_data",
          "data": {
            "text/plain": [
              "<Figure size 432x288 with 1 Axes>"
            ],
            "image/png": "[encoded data removed]"
          },
          "metadata": {
            "needs_background": "light"
          }
        }
      ]
    },
    {
      "cell_type": "code",
      "source": [
        "fig = plt.figure()\n",
        "ax1 = fig.add_subplot(111)\n",
        "\n",
        "\n",
        "\n",
        "ax1.scatter(np.arange(349), TestingData['PredictedGas'], s=10, c='b', marker=\"s\", label='test_data')\n",
        "ax1.scatter(np.arange(349), TestingData['Gas'], s=10, c='r', marker=\"o\", label='predicted_data')\n",
        "plt.legend(loc='upper left')\n",
        "plt.show()"
      ],
      "metadata": {
        "colab": {
          "base_uri": "https://localhost:8080/",
          "height": 265
        },
        "id": "_Dad0KvXfllx",
        "outputId": "2c5b48ac-c26c-418f-cf49-b6b895a5b85c"
      },
      "execution_count": 55,
      "outputs": [
        {
          "output_type": "display_data",
          "data": {
            "text/plain": [
              "<Figure size 432x288 with 1 Axes>"
            ],
            "image/png": "[encoded data removed]"
          },
          "metadata": {
            "needs_background": "light"
          }
        }
      ]
    },
    {
      "cell_type": "code",
      "source": [
        "FullPredictions=model.predict(x)\n",
        "\n",
        "# Scaling the predicted Gas data back to original gas scale\n",
        "FullPredictions=TargetVarScalerFit.inverse_transform(FullPredictions)\n",
        "\n",
        "\n",
        "\n",
        "\n",
        "\n",
        "x_plot=df['time']\n",
        "y1_plot =df['Gas']\n",
        "y2_plot = FullPredictions\n",
        "\n",
        "# print(x_plot.size, y1_plot.size, y2_plot.size)\n",
        "\n",
        "fig = plt.figure()\n",
        "ax1 = fig.add_subplot(111)\n",
        "\n",
        "ax1.scatter(x_plot, y1_plot, s=10, c='b', marker=\"s\", label='original_data')\n",
        "ax1.scatter(x_plot, y2_plot, s=10, c='r', marker=\"o\", label='predicted_data')\n",
        "plt.legend(loc='upper left')\n",
        "plt.show()\n"
      ],
      "metadata": {
        "colab": {
          "base_uri": "https://localhost:8080/",
          "height": 285
        },
        "id": "aRODsbechbBw",
        "outputId": "5b5a96e7-2647-4bd9-d320-e3b3e577a776"
      },
      "execution_count": 54,
      "outputs": [
        {
          "output_type": "stream",
          "name": "stdout",
          "text": [
            "44/44 [==============================] - 0s 1ms/step\n"
          ]
        },
        {
          "output_type": "display_data",
          "data": {
            "text/plain": [
              "<Figure size 432x288 with 1 Axes>"
            ],
            "image/png": "[encoded data removed]"
          },
          "metadata": {
            "needs_background": "light"
          }
        }
      ]
    }
  ]
}